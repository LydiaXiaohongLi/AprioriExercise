{
 "cells": [
  {
   "cell_type": "code",
   "execution_count": 34,
   "metadata": {},
   "outputs": [],
   "source": [
    "import math\n",
    "import pandas as pd\n",
    "from collections import Counter"
   ]
  },
  {
   "cell_type": "code",
   "execution_count": 35,
   "metadata": {},
   "outputs": [],
   "source": [
    "with open('Data\\categories.txt') as f:\n",
    "    content = f.readlines()\n",
    "content = [x.strip() for x in content] \n",
    "content = [x.split(';') for x in content]\n",
    "\n",
    "#Initialize minimum support count\n",
    "minsup_pct=0.01\n",
    "minsup = math.floor(len(content)*0.01)\n"
   ]
  },
  {
   "cell_type": "code",
   "execution_count": 36,
   "metadata": {},
   "outputs": [],
   "source": [
    "#for every candidate k item set, loop through the transaction database, filter for frequent k item set\n",
    "def get_frequent_set_count_k(candidate_set_k):\n",
    "    frequent_set_count=[]\n",
    "    for x in candidate_set_k:\n",
    "        cnt=0\n",
    "        for j in range(len(content)):\n",
    "            if x <= set(content[j]):\n",
    "                cnt+=1\n",
    "        if cnt>=minsup:\n",
    "            frequent_set_count.append((x,cnt))\n",
    "    return frequent_set_count"
   ]
  },
  {
   "cell_type": "code",
   "execution_count": 37,
   "metadata": {},
   "outputs": [],
   "source": [
    "def get_candidate_set_k(frequent_set_k_minus_1, k):\n",
    "    #Generate candidate k item set from frequent k-1 itemset\n",
    "    tmp_candidate_set=set([i.union(j) for i in frequent_set_k_minus_1 for j in frequent_set_k_minus_1 if len(i.union(j)) == k])\n",
    "    #pruning for candidate k item set, that all k-1 child set is frequent k-1 item set - Apriori Rule\n",
    "    c_candidate_set=Counter([y for y in tmp_candidate_set for x in frequent_set_k_minus_1 if x < y ])\n",
    "    candidate_set_k = [x for x in c_candidate_set if c_candidate_set[x]==k]\n",
    "    return candidate_set_k"
   ]
  },
  {
   "cell_type": "code",
   "execution_count": 38,
   "metadata": {},
   "outputs": [],
   "source": [
    "candidate_set_1=set([y for x in content for y in x])\n",
    "candidate_set_1=[frozenset([x]) for x in candidate_set_1]\n",
    "\n",
    "final_frequent_set_count=[]\n",
    "loop = 1\n",
    "while True:\n",
    "    if loop == 1:\n",
    "        candidate_set = candidate_set_1\n",
    "    else:\n",
    "        frequent_set = [x[0] for x in frequent_set_count]\n",
    "        candidate_set = get_candidate_set_k(frequent_set, loop)\n",
    "    frequent_set_count = get_frequent_set_count_k(candidate_set)\n",
    "    if len(frequent_set_count)==0:\n",
    "        break\n",
    "    else:\n",
    "        final_frequent_set_count.extend(frequent_set_count)\n",
    "    loop+=1"
   ]
  },
  {
   "cell_type": "code",
   "execution_count": 39,
   "metadata": {},
   "outputs": [],
   "source": [
    "file  = open('Output/patterns.txt', 'w')\n",
    "for x in final_frequent_set_count:\n",
    "    line=str(x[1])+':'\n",
    "    for i in x[0]:\n",
    "        line=line+i+';'\n",
    "    file.write(line[:-1]+'\\n')"
   ]
  }
 ],
 "metadata": {
  "kernelspec": {
   "display_name": "Python 3",
   "language": "python",
   "name": "python3"
  },
  "language_info": {
   "codemirror_mode": {
    "name": "ipython",
    "version": 3
   },
   "file_extension": ".py",
   "mimetype": "text/x-python",
   "name": "python",
   "nbconvert_exporter": "python",
   "pygments_lexer": "ipython3",
   "version": "3.6.4"
  }
 },
 "nbformat": 4,
 "nbformat_minor": 2
}
